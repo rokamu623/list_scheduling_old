{
 "cells": [
  {
   "cell_type": "code",
   "execution_count": 1,
   "metadata": {},
   "outputs": [],
   "source": [
    "from util.yaml_dag_reader import YamlDagReader\n",
    "from util.json_exporter import JsonExporter\n",
    "\n",
    "from src.dag import DAG\n",
    "from src.scheduler import Scheduler"
   ]
  },
  {
   "cell_type": "code",
   "execution_count": 2,
   "metadata": {},
   "outputs": [
    {
     "ename": "FileNotFoundError",
     "evalue": "[Errno 2] No such file or directory: './DAG/dag_sample.yaml'",
     "output_type": "error",
     "traceback": [
      "\u001b[1;31m---------------------------------------------------------------------------\u001b[0m",
      "\u001b[1;31mFileNotFoundError\u001b[0m                         Traceback (most recent call last)",
      "Cell \u001b[1;32mIn[2], line 2\u001b[0m\n\u001b[0;32m      1\u001b[0m \u001b[39m# read node, edge, deadline from yaml\u001b[39;00m\n\u001b[1;32m----> 2\u001b[0m reader \u001b[39m=\u001b[39m YamlDagReader(\u001b[39m\"\u001b[39;49m\u001b[39m./DAG/dag_sample.yaml\u001b[39;49m\u001b[39m\"\u001b[39;49m)\n\u001b[0;32m      3\u001b[0m wcets, edges, deadline \u001b[39m=\u001b[39m reader\u001b[39m.\u001b[39mread()\n\u001b[0;32m      5\u001b[0m \u001b[39m# make dag from wcets, edges, deadline\u001b[39;00m\n",
      "File \u001b[1;32m\\\\wsl$\\Ubuntu-18.04\\home\\okamu\\list_sheduling\\util\\yaml_dag_reader.py:5\u001b[0m, in \u001b[0;36mYamlDagReader.__init__\u001b[1;34m(self, file_path)\u001b[0m\n\u001b[0;32m      4\u001b[0m \u001b[39mdef\u001b[39;00m \u001b[39m__init__\u001b[39m(\u001b[39mself\u001b[39m, file_path):\n\u001b[1;32m----> 5\u001b[0m     \u001b[39mwith\u001b[39;00m \u001b[39mopen\u001b[39;49m(file_path, \u001b[39m'\u001b[39;49m\u001b[39mr\u001b[39;49m\u001b[39m'\u001b[39;49m) \u001b[39mas\u001b[39;00m yml:\n\u001b[0;32m      6\u001b[0m         \u001b[39mself\u001b[39m\u001b[39m.\u001b[39mdict \u001b[39m=\u001b[39m yaml\u001b[39m.\u001b[39msafe_load(yml)\n",
      "\u001b[1;31mFileNotFoundError\u001b[0m: [Errno 2] No such file or directory: './DAG/dag_sample.yaml'"
     ]
    }
   ],
   "source": [
    "# read node, edge, deadline from yaml\n",
    "reader = YamlDagReader(\"./data/dag_sample.yaml\")\n",
    "wcets, edges, deadline = reader.read()\n",
    "\n",
    "# make dag from wcets, edges, deadline\n",
    "dag = DAG(wcets, edges, deadline)"
   ]
  },
  {
   "cell_type": "code",
   "execution_count": null,
   "metadata": {},
   "outputs": [],
   "source": [
    "# do list scheduling\n",
    "core_num = 2\n",
    "scheduler = Scheduler(dag, core_num)\n",
    "scheduler.scheduling()"
   ]
  },
  {
   "cell_type": "code",
   "execution_count": null,
   "metadata": {},
   "outputs": [
    {
     "name": "stdout",
     "output_type": "stream",
     "text": [
      "===== info ======\n",
      "idx: 0, ST: 0, FT: 30, core: 0\n",
      "idx: 1, ST: 28, FT: 53, core: 1\n",
      "idx: 2, ST: 30, FT: 47, core: 0\n",
      "idx: 3, ST: 0, FT: 28, core: 1\n",
      "idx: 4, ST: 47, FT: 77, core: 0\n",
      "idx: 5, ST: 77, FT: 97, core: 0\n",
      "idx: 6, ST: 53, FT: 60, core: 1\n",
      "idx: 7, ST: 97, FT: 121, core: 1\n",
      "idx: 8, ST: 60, FT: 83, core: 1\n",
      "idx: 9, ST: 121, FT: 129, core: 0\n",
      "===== makespan ======\n",
      "129\n"
     ]
    }
   ],
   "source": [
    "### outputs ###\n",
    "# dag info\n",
    "print(\"===== info ======\")\n",
    "for i, node in enumerate(dag.nodes):\n",
    "    print(\"idx: \"+str(i)+\", ST: \"+str(node.ST)+\", FT: \"+str(node.FT)+\", core: \"+str(node.core))\n",
    "\n",
    "# makespan\n",
    "print(\"===== makespan ======\")\n",
    "print(dag.makespan)"
   ]
  },
  {
   "cell_type": "code",
   "execution_count": null,
   "metadata": {},
   "outputs": [
    {
     "name": "stdout",
     "output_type": "stream",
     "text": [
      "===== json ======\n",
      "export json\n"
     ]
    }
   ],
   "source": [
    "# scheduling\n",
    "# display_scheduling(core_num, dag)\n",
    "print(\"===== json ======\")\n",
    "json_exporter = JsonExporter(dag)\n",
    "json_exporter.export(\"./data/dag_sample.json\")\n",
    "print(\"export json\")"
   ]
  }
 ],
 "metadata": {
  "kernelspec": {
   "display_name": "Python 3",
   "language": "python",
   "name": "python3"
  },
  "language_info": {
   "codemirror_mode": {
    "name": "ipython",
    "version": 3
   },
   "file_extension": ".py",
   "mimetype": "text/x-python",
   "name": "python",
   "nbconvert_exporter": "python",
   "pygments_lexer": "ipython3",
   "version": "3.10.11"
  },
  "orig_nbformat": 4
 },
 "nbformat": 4,
 "nbformat_minor": 2
}
